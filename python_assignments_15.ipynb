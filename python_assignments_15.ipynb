{
 "cells": [
  {
   "cell_type": "markdown",
   "id": "27a267a9",
   "metadata": {},
   "source": [
    "### Q1. How many seconds are in an hour? Use the interactive interpreter as a calculator and multiply the number of seconds in a minute (60) by the number of minutes in an hour(also 60)?\n",
    "#### Ans1:"
   ]
  },
  {
   "cell_type": "code",
   "execution_count": 2,
   "id": "fb123ca6",
   "metadata": {},
   "outputs": [
    {
     "name": "stdout",
     "output_type": "stream",
     "text": [
      "3600\n"
     ]
    }
   ],
   "source": [
    "print(60*60)"
   ]
  },
  {
   "cell_type": "markdown",
   "id": "12100fe1",
   "metadata": {},
   "source": [
    "### Q2. Assign the result from the previous task (seconds in an hour) to a variable called seconds_per_hour?\n",
    "#### Ans:"
   ]
  },
  {
   "cell_type": "code",
   "execution_count": 3,
   "id": "037fec15",
   "metadata": {},
   "outputs": [
    {
     "name": "stdout",
     "output_type": "stream",
     "text": [
      "3600\n"
     ]
    }
   ],
   "source": [
    "seconds_per_hour = 60*60\n",
    "print(seconds_per_hour)"
   ]
  },
  {
   "cell_type": "markdown",
   "id": "b6de12e2",
   "metadata": {},
   "source": [
    "### Q3. How many seconds do you think in a day? Make use of the variables seconds per hour and minutes per hour?\n",
    "#### Ans:"
   ]
  },
  {
   "cell_type": "code",
   "execution_count": 4,
   "id": "5186496e",
   "metadata": {},
   "outputs": [
    {
     "name": "stdout",
     "output_type": "stream",
     "text": [
      "86400\n"
     ]
    }
   ],
   "source": [
    "seconds_per_day = 24*60*60\n",
    "print(seconds_per_day)"
   ]
  },
  {
   "cell_type": "markdown",
   "id": "be2b82ff",
   "metadata": {},
   "source": [
    "### Q5. Divide seconds_per_day by seconds_per_hour . Use floating-point(/) division?\n",
    "#### Ans:"
   ]
  },
  {
   "cell_type": "code",
   "execution_count": 5,
   "id": "a998b8ff",
   "metadata": {},
   "outputs": [
    {
     "name": "stdout",
     "output_type": "stream",
     "text": [
      "24.0\n"
     ]
    }
   ],
   "source": [
    "print(seconds_per_day/seconds_per_hour)\n"
   ]
  },
  {
   "cell_type": "markdown",
   "id": "4283af2e",
   "metadata": {},
   "source": [
    "### Q6. Divide seconds_per_day by seconds_per_hour, using integer(//) division.Did this number agree with the floating-point value from the previous question, aside from the final .0?\n",
    "#### Ans:"
   ]
  },
  {
   "cell_type": "code",
   "execution_count": 6,
   "id": "7ac0cdfd",
   "metadata": {},
   "outputs": [
    {
     "name": "stdout",
     "output_type": "stream",
     "text": [
      "24\n",
      "Yes this number agree with the floating-point value from the previous question!!\n"
     ]
    }
   ],
   "source": [
    "print(seconds_per_day//seconds_per_hour)\n",
    "print(\"Yes this number agree with the floating-point value from the previous question!!\")"
   ]
  },
  {
   "cell_type": "markdown",
   "id": "380c8d05",
   "metadata": {},
   "source": [
    "### Q7. Write a generator , genPrimes,that returns the sequences of prime numbers on successive calls to its next() method:2,3,5,7,11,.....\n",
    "#### Ans:"
   ]
  },
  {
   "cell_type": "code",
   "execution_count": 15,
   "id": "cab93c33",
   "metadata": {},
   "outputs": [
    {
     "name": "stdout",
     "output_type": "stream",
     "text": [
      "2\n",
      "3\n",
      "5\n",
      "7\n",
      "11\n",
      "13\n",
      "17\n",
      "19\n",
      "23\n",
      "25\n",
      "29\n",
      "31\n",
      "35\n",
      "37\n",
      "41\n",
      "43\n",
      "47\n",
      "49\n",
      "53\n",
      "55\n",
      "59\n"
     ]
    }
   ],
   "source": [
    "def genPrimes():\n",
    "    n = 0\n",
    "    while True:\n",
    "        if n==2 or n==3:\n",
    "            yield n\n",
    "        elif ((n-1)%6 == 0 or (n+1)%6==0) and n!=1:\n",
    "            yield n\n",
    "        n = n+1\n",
    "output = genPrimes()\n",
    "for i in range(21):\n",
    "    print(next(output))"
   ]
  }
 ],
 "metadata": {
  "kernelspec": {
   "display_name": "Python 3 (ipykernel)",
   "language": "python",
   "name": "python3"
  },
  "language_info": {
   "codemirror_mode": {
    "name": "ipython",
    "version": 3
   },
   "file_extension": ".py",
   "mimetype": "text/x-python",
   "name": "python",
   "nbconvert_exporter": "python",
   "pygments_lexer": "ipython3",
   "version": "3.9.12"
  }
 },
 "nbformat": 4,
 "nbformat_minor": 5
}
