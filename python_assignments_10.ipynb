{
 "cells": [
  {
   "cell_type": "markdown",
   "id": "398276d5",
   "metadata": {},
   "source": [
    "### Q1. How do you distinguish between shutil.copy() and shutil.copytree()?\n",
    "#### Ans1. \n",
    "The shutil.copy() method is used to copy a single file, while shutil.copytree() will copy an entire folder , along with all its content."
   ]
  },
  {
   "cell_type": "markdown",
   "id": "e550f6b6",
   "metadata": {},
   "source": [
    "### Q2. What function is used to rename files?\n",
    "#### Ans2.\n",
    "The shutil.move() is used to rename files , as well as moving them.\n"
   ]
  },
  {
   "cell_type": "markdown",
   "id": "e6889c5f",
   "metadata": {},
   "source": [
    "### Q3. What is the difference between the delete function in the send2trash and shutil modules?\n",
    "#### Ans3. \n",
    "The send2trash functions will move a file or folder to the recycle bin , while shutil functions will permanently deletefiles and folders."
   ]
  },
  {
   "cell_type": "markdown",
   "id": "62e208a1",
   "metadata": {},
   "source": [
    "### Q4. ZipFile objects have a close() method just  like File object's close() method.What ZipFile method is equivalent to File objects' open() method?\n",
    "#### Ans4.\n",
    "The zipfile.zipFile() function is equivalent to the open() function; the first argument is the filename , and the secondargument is the mode to open the ZIP file in (read,write,or append)."
   ]
  },
  {
   "cell_type": "code",
   "execution_count": 9,
   "id": "6e7eb996",
   "metadata": {},
   "outputs": [
    {
     "name": "stdout",
     "output_type": "stream",
     "text": [
      "Looking in F:\\\u0007ssignments_ineuron for files with extensions of  .php, .py\n"
     ]
    }
   ],
   "source": [
    "### Q5. Create  a programm that searches a folder tree for files wih a certain file extension(such as.pdf or.jpg)Copy these files from whatever location they are in two folder\n",
    "#### Ans5. \n",
    "import os , shutil\n",
    "def selectiveCopy(folder,extensions,destFolder):\n",
    "    folder = os.path.abspath(folder)\n",
    "    destFolder = os.path.abspath(destFolder)\n",
    "    print('Looking in', folder , 'for files with extensions of', ','.join(extensions))\n",
    "    for foldername,subfolders,filenames in os.walk(folder):\n",
    "        for filename in filenames:\n",
    "            name,extension = os.path.splitext(filename)\n",
    "            if extension in extensions:\n",
    "                fileAbsPath = foldername + os.path.sep + filename\n",
    "                print('Copying', fileAbsPath,'to',destFolder)\n",
    "                shutil.copy(fileAbsPath,destFolder)\n",
    "extensions = [' .php' , ' .py']\n",
    "folder = 'F:\\assignments_ineuron'\n",
    "destFolder = 'Newfolder'\n",
    "selectiveCopy(folder,extensions,destFolder)"
   ]
  },
  {
   "cell_type": "code",
   "execution_count": null,
   "id": "95eade0b",
   "metadata": {},
   "outputs": [],
   "source": []
  }
 ],
 "metadata": {
  "kernelspec": {
   "display_name": "Python 3 (ipykernel)",
   "language": "python",
   "name": "python3"
  },
  "language_info": {
   "codemirror_mode": {
    "name": "ipython",
    "version": 3
   },
   "file_extension": ".py",
   "mimetype": "text/x-python",
   "name": "python",
   "nbconvert_exporter": "python",
   "pygments_lexer": "ipython3",
   "version": "3.9.12"
  }
 },
 "nbformat": 4,
 "nbformat_minor": 5
}
