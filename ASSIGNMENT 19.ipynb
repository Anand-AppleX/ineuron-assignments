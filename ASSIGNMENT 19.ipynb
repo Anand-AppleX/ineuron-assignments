{
 "cells": [
  {
   "cell_type": "code",
   "execution_count": 1,
   "id": "01c6018d",
   "metadata": {},
   "outputs": [],
   "source": [
    "#Q1. Make a class called Thing with no contents and print it. Then, create an object called example from this class and also\n",
    "#   also print it. Are the printed values the same or different\n",
    "\n"
   ]
  },
  {
   "cell_type": "code",
   "execution_count": 1,
   "id": "2811e669",
   "metadata": {},
   "outputs": [
    {
     "name": "stdout",
     "output_type": "stream",
     "text": [
      "<class '__main__.Thing'>\n",
      "<__main__.Thing object at 0x000002197B1ECDC0>\n"
     ]
    }
   ],
   "source": [
    "class Thing:\n",
    "    pass\n",
    "print(Thing)\n",
    "example = Thing()\n",
    "print(example)"
   ]
  },
  {
   "cell_type": "code",
   "execution_count": 2,
   "id": "4967c3a4",
   "metadata": {},
   "outputs": [],
   "source": [
    "#Q2. Create a new class Thing2 and add the value 'abc' to the letters called attribute.Letters should be printed"
   ]
  },
  {
   "cell_type": "code",
   "execution_count": 4,
   "id": "4575029c",
   "metadata": {},
   "outputs": [
    {
     "name": "stdout",
     "output_type": "stream",
     "text": [
      "abc\n"
     ]
    }
   ],
   "source": [
    "class Thing2:\n",
    "    letters = 'abc'\n",
    "print(Thing2.letters)"
   ]
  },
  {
   "cell_type": "code",
   "execution_count": 5,
   "id": "26d76be9",
   "metadata": {},
   "outputs": [],
   "source": [
    "#3. Make yet another class called,of course,Thing3.This time,assign the value 'xyz' to an instance (object) attribute called \n",
    "#   letters. Print letters. Do you need to make an object from the class to do this?"
   ]
  },
  {
   "cell_type": "code",
   "execution_count": 7,
   "id": "1f089505",
   "metadata": {},
   "outputs": [
    {
     "name": "stdout",
     "output_type": "stream",
     "text": [
      "xyz\n"
     ]
    }
   ],
   "source": [
    "class Thing3:\n",
    "    def __init__(self):\n",
    "        self.letters = 'xyz'\n",
    "try:\n",
    "    print(Thing3.letters)\n",
    "except:\n",
    "    obj = Thing3()\n",
    "    print(obj.letters)"
   ]
  },
  {
   "cell_type": "code",
   "execution_count": 8,
   "id": "9ffda509",
   "metadata": {},
   "outputs": [],
   "source": [
    "#Q4. Create an element class with the instance attributes name, symbol,and number. Create a class object with the values\n",
    "#    'Hydrogen','H', and 1."
   ]
  },
  {
   "cell_type": "code",
   "execution_count": 12,
   "id": "4667c0b6",
   "metadata": {},
   "outputs": [],
   "source": [
    "class Element:\n",
    "    def __init__(self,name,symbol,number):\n",
    "        self.name = name\n",
    "        self.symbol = symbol\n",
    "        self.number = number\n",
    "obj = Element('Hydrogen','H',1)\n",
    "\n"
   ]
  },
  {
   "cell_type": "code",
   "execution_count": 13,
   "id": "19f927eb",
   "metadata": {},
   "outputs": [],
   "source": [
    "#Q5. Make a dictionary with these keys and values: 'name':\"Hydrogen\",'symbol':'H','number':1.Then, create an object hydrogen \n",
    "#    from class Element using this dictionary."
   ]
  },
  {
   "cell_type": "code",
   "execution_count": 20,
   "id": "50396c4d",
   "metadata": {},
   "outputs": [
    {
     "name": "stdout",
     "output_type": "stream",
     "text": [
      "{'name': 'Hydrogen', 'symbol': 'H', 'number': 1}\n",
      "Hydrogen H 1\n"
     ]
    }
   ],
   "source": [
    "dict = {'name':'Hydrogen','symbol':'H','number':1}\n",
    "print(dict)\n",
    "\n",
    "Hydrogen = Element(*dict.values())\n",
    "print(Hydrogen.name,Hydrogen.symbol,Hydrogen.number)"
   ]
  },
  {
   "cell_type": "code",
   "execution_count": 21,
   "id": "81c9da06",
   "metadata": {},
   "outputs": [],
   "source": [
    "#Q6. For the element class , define a method called dump() that prints the values of the object's attributes(name,symbol,and \n",
    "#    number).Create the hydrogen object from this new definition and use dump() to print its attributes."
   ]
  },
  {
   "cell_type": "code",
   "execution_count": 37,
   "id": "80a31f5b",
   "metadata": {},
   "outputs": [
    {
     "data": {
      "text/plain": [
       "<bound method Element.dump of <__main__.Element object at 0x000002197C31C6D0>>"
      ]
     },
     "execution_count": 37,
     "metadata": {},
     "output_type": "execute_result"
    }
   ],
   "source": [
    "class Element:\n",
    "    def __init__(self,name,symbol,number):\n",
    "        self.name = name\n",
    "        self.symbol = symbol\n",
    "        self.number = number\n",
    "    def dump(self):\n",
    "        return f'{self.name} {self.symbol} {self.number}'\n",
    "        \n",
    "hydrogen = Element('Hydrogen','H',1)\n",
    "hydrogen.dump"
   ]
  },
  {
   "cell_type": "code",
   "execution_count": 27,
   "id": "192f8aab",
   "metadata": {},
   "outputs": [],
   "source": [
    "#Q7. Call print(hydrogen) . In the definition of Element,change the name of the method dump to __str__,create a new hydrogen \n",
    "#    object,and call print(hydrogen) again."
   ]
  },
  {
   "cell_type": "code",
   "execution_count": 38,
   "id": "1eed091b",
   "metadata": {},
   "outputs": [
    {
     "name": "stdout",
     "output_type": "stream",
     "text": [
      "<__main__.Element object at 0x000002197C31C6D0>\n",
      "Hydrogen H 1\n"
     ]
    }
   ],
   "source": [
    "print(hydrogen)\n",
    "\n",
    "class Element :\n",
    "    def __init__(self,name,symbol,number):\n",
    "        self.name = name\n",
    "        self.symbol = symbol\n",
    "        self.number = number\n",
    "    def __str__(self):\n",
    "       return f'{self.name} {self.symbol} {self.number}'\n",
    "Hydrogen = Element('Hydrogen','H',1)\n",
    "print(Hydrogen)\n",
    "        \n",
    "    "
   ]
  },
  {
   "cell_type": "code",
   "execution_count": 39,
   "id": "b1fbe0e6",
   "metadata": {},
   "outputs": [],
   "source": [
    "#Q8. Modify Element to make the attribute name, symbol, and number private . Define a getter property for each to return its \n",
    "#    value."
   ]
  },
  {
   "cell_type": "code",
   "execution_count": 46,
   "id": "a52f4bf3",
   "metadata": {},
   "outputs": [
    {
     "name": "stdout",
     "output_type": "stream",
     "text": [
      "Hydrogen\n",
      "H\n",
      "1\n"
     ]
    }
   ],
   "source": [
    "class Element :\n",
    "    def __init__(self,name,symbol,number):\n",
    "        self.__name = name\n",
    "        self.__symbol = symbol\n",
    "        self.__number = number\n",
    "    @property\n",
    "    def get_name(self):\n",
    "        return self.__name\n",
    "    @property\n",
    "    def get_symbol(self):\n",
    "        return self.__symbol\n",
    "    @property\n",
    "    def get_number(self):\n",
    "        return self.__number\n",
    "Hydrogen = Element('Hydrogen','H',1)\n",
    "print(Hydrogen.get_name)\n",
    "print(Hydrogen.get_symbol)\n",
    "print(Hydrogen.get_number)"
   ]
  },
  {
   "cell_type": "code",
   "execution_count": 47,
   "id": "17436168",
   "metadata": {},
   "outputs": [],
   "source": [
    "#Q9. Define a three classees: Bear,Rabbit and Octothorpe. For each , define only one method: eats().This should return \"berries\"\n",
    "#    (Bear),'clover'(Rabbit), or 'campers'(Octothorpe).Create one oject from each and print what it eats."
   ]
  },
  {
   "cell_type": "code",
   "execution_count": 49,
   "id": "f0ec60ed",
   "metadata": {},
   "outputs": [
    {
     "name": "stdout",
     "output_type": "stream",
     "text": [
      "berries\n",
      "clover\n",
      "campers\n"
     ]
    }
   ],
   "source": [
    "class Bear:\n",
    "    def eats(self):\n",
    "        print('berries')\n",
    "class Rabbit :\n",
    "    def eats(self):\n",
    "        print('clover')\n",
    "class Octothorpe:\n",
    "    def eats(self):\n",
    "        print('campers')\n",
    "bear = Bear()\n",
    "rabbit = Rabbit()\n",
    "octothorpe = Octothorpe()\n",
    "\n",
    "bear.eats()\n",
    "rabbit.eats()\n",
    "octothorpe.eats()"
   ]
  },
  {
   "cell_type": "code",
   "execution_count": 50,
   "id": "2e1faf12",
   "metadata": {},
   "outputs": [],
   "source": [
    "#Q10. Define these classes: Laser,Claw,and SmartPhone. Each has only one method: does().This returns 'disintegrate'(Laser),\n",
    "#     'crush'(Claw),or 'ring'(SmartPhone).Then, define the class Robot that has one instance (object) of each of these. Define a\n",
    "#     does() method for the Robot that prints what its component objects do."
   ]
  },
  {
   "cell_type": "code",
   "execution_count": 52,
   "id": "1d56ba89",
   "metadata": {},
   "outputs": [
    {
     "name": "stdout",
     "output_type": "stream",
     "text": [
      "disintegrate crush ring\n"
     ]
    }
   ],
   "source": [
    "class Laser:\n",
    "    def does(self):\n",
    "        return 'disintegrate'\n",
    "class Claw:\n",
    "    def does(self):\n",
    "        return 'crush'\n",
    "class SmartPhone:\n",
    "    def does(self):\n",
    "        return 'ring'\n",
    "class Robot:\n",
    "    def __init__(self):\n",
    "        self.laser = Laser()\n",
    "        self.claw = Claw()\n",
    "        self.smartphone = SmartPhone()\n",
    "    def does(self):\n",
    "        print(self.laser.does(),self.claw.does(),self.smartphone.does())\n",
    "obj = Robot()\n",
    "obj.does()"
   ]
  }
 ],
 "metadata": {
  "kernelspec": {
   "display_name": "Python 3 (ipykernel)",
   "language": "python",
   "name": "python3"
  },
  "language_info": {
   "codemirror_mode": {
    "name": "ipython",
    "version": 3
   },
   "file_extension": ".py",
   "mimetype": "text/x-python",
   "name": "python",
   "nbconvert_exporter": "python",
   "pygments_lexer": "ipython3",
   "version": "3.9.12"
  }
 },
 "nbformat": 4,
 "nbformat_minor": 5
}
