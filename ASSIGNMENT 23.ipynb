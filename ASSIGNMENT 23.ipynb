{
 "cells": [
  {
   "cell_type": "code",
   "execution_count": 1,
   "id": "c942054d",
   "metadata": {},
   "outputs": [],
   "source": [
    "#Q1. What is the result of the code, and why?\n",
    "#>>> def func(a,b=6,c=8)\n",
    "#print(a,b,c)\n",
    "#>>>func(1,2)\n",
    "\n",
    "#Ans1 : The result of the code is 1,2,8. It is because the function has used default value of c i.e. 8 at the time of declaration"
   ]
  },
  {
   "cell_type": "code",
   "execution_count": 3,
   "id": "3966cffe",
   "metadata": {},
   "outputs": [
    {
     "name": "stdout",
     "output_type": "stream",
     "text": [
      "1 2 8\n"
     ]
    }
   ],
   "source": [
    "def func(a,b=6,c=8):\n",
    "    print(a,b,c)\n",
    "func(1,2)"
   ]
  },
  {
   "cell_type": "code",
   "execution_count": 4,
   "id": "835b01e7",
   "metadata": {},
   "outputs": [],
   "source": [
    "#Q2. What is the result of this code, and why?\n",
    "\n",
    "#>>> def func(a,b,c=5):\n",
    "#print(a,b,c)\n",
    "#>>>func(1,c=3,b=2)\n",
    "\n",
    "#Ans2. The result of this code is 1,2,3. It is because the function will use the default value only at the time when the value \n",
    "#      of argument is not provided , the order of argument is also ignored by pythoon interpreter."
   ]
  },
  {
   "cell_type": "code",
   "execution_count": 5,
   "id": "59dcbb67",
   "metadata": {},
   "outputs": [
    {
     "name": "stdout",
     "output_type": "stream",
     "text": [
      "1 2 3\n"
     ]
    }
   ],
   "source": [
    "def func(a,b,c=5):\n",
    "    print(a,b,c)\n",
    "func(1,c=3,b=2)"
   ]
  },
  {
   "cell_type": "code",
   "execution_count": 6,
   "id": "bd16cf45",
   "metadata": {},
   "outputs": [],
   "source": [
    "#Q3. How about thhis code : what is its result, and why?\n",
    "#>>> def func(a,*pargs):\n",
    "#print(a,pargs)\n",
    "#>>>func(1,2,3)\n",
    "\n",
    "#Ans3. The result of this code is 1,(2,3) , *pargs stands for variable length arguments. This format is used when we are not\n",
    "#      sure about the number of arguments to be passed to a function. All the values under this argument will be stored as tuple"
   ]
  },
  {
   "cell_type": "code",
   "execution_count": 8,
   "id": "64ec5222",
   "metadata": {},
   "outputs": [
    {
     "name": "stdout",
     "output_type": "stream",
     "text": [
      "1 (2, 3)\n"
     ]
    }
   ],
   "source": [
    "def func(a,*pargs):\n",
    "    print(a,pargs)\n",
    "func(1,2,3)"
   ]
  },
  {
   "cell_type": "code",
   "execution_count": 9,
   "id": "cf3a75d8",
   "metadata": {},
   "outputs": [],
   "source": [
    "#Q4. What does this code print, and why?\n",
    "#>>>def func(a,**kargs):\n",
    "#print(a,kargs)\n",
    "#>>>func(a=1,c=3,b=2)\n",
    "\n",
    "#Ans4. The result of this code is 1,{'c':3,'b':2}. It is because **kargs stands for variable length in keyword arguments. This\n",
    "#      format is used when we have to pass key value pair as input to a function."
   ]
  },
  {
   "cell_type": "code",
   "execution_count": 10,
   "id": "c74371ce",
   "metadata": {},
   "outputs": [
    {
     "name": "stdout",
     "output_type": "stream",
     "text": [
      "1 {'c': 3, 'b': 2}\n"
     ]
    }
   ],
   "source": [
    "def func(a,**kargs):\n",
    "    print(a,kargs)\n",
    "func(a=1,c=3,b=2)"
   ]
  },
  {
   "cell_type": "code",
   "execution_count": 11,
   "id": "7b6cba32",
   "metadata": {},
   "outputs": [],
   "source": [
    "#Q5. What gets printed by this, and explain?\n",
    "#>>>def func(a,b,c=8,d=5) : print(a,b,c,d)\n",
    "#>>>func(1,*(5,6))\n",
    "\n",
    "#Ans5. The output of this code is 1,5,6,5. It is because the value of a is provided explicity where as for b and c the function\n",
    "#      will expand *(5,6) and consider the value of b as 5 and for c as 6. Since the default value of d is given in function\n",
    "#      declaration, d will be 5. "
   ]
  },
  {
   "cell_type": "code",
   "execution_count": 12,
   "id": "f68e6116",
   "metadata": {},
   "outputs": [
    {
     "name": "stdout",
     "output_type": "stream",
     "text": [
      "1 5 6 5\n"
     ]
    }
   ],
   "source": [
    "def func(a,b,c=8,d=5):\n",
    "    print(a,b,c,d)\n",
    "func(1,*(5,6))"
   ]
  },
  {
   "cell_type": "code",
   "execution_count": 13,
   "id": "03b06120",
   "metadata": {},
   "outputs": [],
   "source": [
    "#Q6 What is the result of this, and explain?\n",
    "#>>>def func(a,b,c): a=2;b[0]='x';c['a']='y'\n",
    "#>>>l=1;m=[1];n={'a':0}\n",
    "#>>>func(l,m,n)\n",
    "#>>>l,m,n\n",
    "\n",
    "\n",
    "#Ans6. The output of the above code is 1,['x'],{'a':'y'}\n",
    "#      1. Even though python gives importance to indentation,it provides a facility to declare an entire function in one single \n",
    "#          line where statements in a function body are separated as ;\n",
    "#       2. When l,m,n are provided as inputs to the function, it modifies the values of l,m,n and sets the value of l=2,m=['x']\n",
    "#          and n={'a':'y'}"
   ]
  },
  {
   "cell_type": "code",
   "execution_count": 14,
   "id": "75d94fb9",
   "metadata": {},
   "outputs": [
    {
     "data": {
      "text/plain": [
       "(1, ['x'], {'a': 'y'})"
      ]
     },
     "execution_count": 14,
     "metadata": {},
     "output_type": "execute_result"
    }
   ],
   "source": [
    "def func(a,b,c): a = 2 ; b[0] = 'x' ; c['a'] = 'y'\n",
    "l = 1; m=[1]; n={'a':0}\n",
    "func(l,m,n)\n",
    "l,m,n"
   ]
  }
 ],
 "metadata": {
  "kernelspec": {
   "display_name": "Python 3 (ipykernel)",
   "language": "python",
   "name": "python3"
  },
  "language_info": {
   "codemirror_mode": {
    "name": "ipython",
    "version": 3
   },
   "file_extension": ".py",
   "mimetype": "text/x-python",
   "name": "python",
   "nbconvert_exporter": "python",
   "pygments_lexer": "ipython3",
   "version": "3.9.12"
  }
 },
 "nbformat": 4,
 "nbformat_minor": 5
}
