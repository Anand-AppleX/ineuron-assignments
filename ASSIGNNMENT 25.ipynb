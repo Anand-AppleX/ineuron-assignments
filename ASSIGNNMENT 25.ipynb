{
 "cells": [
  {
   "cell_type": "code",
   "execution_count": 1,
   "id": "81205cc5",
   "metadata": {},
   "outputs": [],
   "source": [
    "#Q1. What is the difference between enclosing a list comprehension in sqare brackets and parantheses?\n",
    "\n",
    "#Ans1: Enclosing a list in sqaure brackets return a list and enclosing a list in parantheses returns a generator object.\n",
    "#        Example is given below:"
   ]
  },
  {
   "cell_type": "code",
   "execution_count": 2,
   "id": "80be44f5",
   "metadata": {},
   "outputs": [
    {
     "name": "stdout",
     "output_type": "stream",
     "text": [
      "[0, 1, 2, 3, 4, 5, 6, 7, 8, 9] <class 'list'>\n",
      "<generator object <genexpr> at 0x0000027363C4B6D0> <class 'generator'>\n"
     ]
    }
   ],
   "source": [
    "l = [i for i in range(10)]\n",
    "print(l,type(l))\n",
    "g = (j for j in range(10))\n",
    "print(g,type(g))"
   ]
  },
  {
   "cell_type": "code",
   "execution_count": 3,
   "id": "9bee8fff",
   "metadata": {},
   "outputs": [],
   "source": [
    "#Q2. What is the relationship between generators and iterators?\n",
    "\n",
    "#Ans2: Iterators are the objects that use the next() method to get the next value of the sequence. A generator is a function \n",
    "#      that produce or yields a sequence of values using a yield statement. Classes are used to implement the iterators.\n",
    "#      Functions are used to implement the generator."
   ]
  },
  {
   "cell_type": "code",
   "execution_count": 4,
   "id": "cd7d33d9",
   "metadata": {},
   "outputs": [
    {
     "name": "stdout",
     "output_type": "stream",
     "text": [
      "<class 'list_iterator'>\n",
      "iNeuron\n",
      "Full\n",
      "Stack\n",
      "Data\n",
      "Science\n",
      "<list_iterator object at 0x0000027363CB6B20>\n",
      "0\n",
      "1\n",
      "8\n",
      "27\n",
      "64\n"
     ]
    }
   ],
   "source": [
    "#Example of iterator\n",
    "iter_str = iter(['iNeuron','Full','Stack','Data','Science'])\n",
    "print(type(iter_str))\n",
    "print(next(iter_str))\n",
    "print(next(iter_str))\n",
    "print(next(iter_str))\n",
    "print(next(iter_str))\n",
    "print(next(iter_str))\n",
    "print(iter_str) \n",
    "\n",
    "#Example of Generator\n",
    "\n",
    "def cube_numbers(in_num):\n",
    "    for i in range(in_num+1):\n",
    "        yield i**3\n",
    "        \n",
    "out_num = cube_numbers(4)\n",
    "print(next(out_num))\n",
    "print(next(out_num))\n",
    "print(next(out_num))\n",
    "print(next(out_num))\n",
    "print(next(out_num))\n",
    "\n"
   ]
  },
  {
   "cell_type": "code",
   "execution_count": 5,
   "id": "cd7cf79e",
   "metadata": {},
   "outputs": [],
   "source": [
    "#Q3. What are the signs that a function is a generator function?\n",
    "\n",
    "#Ans3: A generator function uses a yield statement instead of a return statement. A return function always return a iterable \n",
    "#    object called generator."
   ]
  },
  {
   "cell_type": "code",
   "execution_count": 6,
   "id": "0e6fc35e",
   "metadata": {},
   "outputs": [],
   "source": [
    "#Q4. What is the purpose of a yield statement?\n",
    "\n",
    "#Ans4. The yield keyword in Python is similar to a return statement used for returning values or objects in Python. However,\n",
    "#    there is a slight difference . The yield statement returns a generator object to the one who calls the function which \n",
    "#     contains yield, instead of simply returning a value."
   ]
  },
  {
   "cell_type": "code",
   "execution_count": 7,
   "id": "7d1e4d16",
   "metadata": {},
   "outputs": [],
   "source": [
    "#Q5. What is the relationship between map cals and list comprehensions? Make a comparison and contrast between two?"
   ]
  },
  {
   "cell_type": "code",
   "execution_count": null,
   "id": "0210b576",
   "metadata": {},
   "outputs": [],
   "source": [
    "#Ans5. 1. List comprehension is more concise and easier to read as compared to map.\n",
    "#       2. List comprehension allows filtering.In map, we have no such facility\n",
    "#       3. List comprehension is faster that the map when we need to evaluate expressions that are too long or complicated to \n",
    "#          express.\n",
    "#       4. Map is faster in case of calling an already defined function on a set of values."
   ]
  }
 ],
 "metadata": {
  "kernelspec": {
   "display_name": "Python 3 (ipykernel)",
   "language": "python",
   "name": "python3"
  },
  "language_info": {
   "codemirror_mode": {
    "name": "ipython",
    "version": 3
   },
   "file_extension": ".py",
   "mimetype": "text/x-python",
   "name": "python",
   "nbconvert_exporter": "python",
   "pygments_lexer": "ipython3",
   "version": "3.9.12"
  }
 },
 "nbformat": 4,
 "nbformat_minor": 5
}
