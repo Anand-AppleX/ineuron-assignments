{
 "cells": [
  {
   "cell_type": "code",
   "execution_count": 1,
   "id": "418f99dc",
   "metadata": {},
   "outputs": [],
   "source": [
    "#Q1. WHAT IS THE RESULT OF THE CODE , AND EXPLAIN?\n",
    "#    >>> X = 'iNeuron'\n",
    "#    >>> def func():\n",
    "#    print(X)\n",
    "#    >>>func()\n",
    "\n",
    "\n",
    "#Ans1 : The result of the code is 'iNeuron'. It is because the function initially looks for the  variable X  in its local scope\n",
    "#       but since there is no local variable X, it returns the global variable X i.e. iNeuron.\n",
    "\n",
    "#      The output of the given code is given below:"
   ]
  },
  {
   "cell_type": "code",
   "execution_count": 2,
   "id": "f9775d38",
   "metadata": {},
   "outputs": [
    {
     "name": "stdout",
     "output_type": "stream",
     "text": [
      "iNeuron\n"
     ]
    }
   ],
   "source": [
    "X = 'iNeuron'\n",
    "def func():\n",
    "    print(X)\n",
    "func()"
   ]
  },
  {
   "cell_type": "code",
   "execution_count": 3,
   "id": "15077211",
   "metadata": {},
   "outputs": [],
   "source": [
    "#Q2. WHAT IS THE RESULT OF THE CODE , AND EXPLAIN?\n",
    "#    >>> X = 'iNeuron'\n",
    "#    >>> def func():\n",
    "#    X = 'NI!'\n",
    "#    >>>func()\n",
    "#    print(X)\n",
    "\n",
    "\n",
    "#Ans2 : The result of the code is 'NI!'. It is because the function initially looks the variable X in local scope and since here\n",
    "#       the X is present in local scope, it directly prints the value 'NI!' and does not look for global scope.\n",
    "\n",
    "#      The output of the given code is given below:"
   ]
  },
  {
   "cell_type": "code",
   "execution_count": 4,
   "id": "78010d41",
   "metadata": {},
   "outputs": [
    {
     "name": "stdout",
     "output_type": "stream",
     "text": [
      "NI!\n"
     ]
    }
   ],
   "source": [
    "X = 'iNeuron'\n",
    "def func():\n",
    "    X = 'NI!'\n",
    "    print(X)\n",
    "func()\n"
   ]
  },
  {
   "cell_type": "code",
   "execution_count": 5,
   "id": "8358c593",
   "metadata": {},
   "outputs": [],
   "source": [
    "#Q3. WHAT DOES THIS CODE PRINTS, AND WHY?\n",
    "\n",
    "# >>> X = 'iNeuron'\n",
    "#>>>  def func():\n",
    "# X = 'NI'\n",
    "# print(X)\n",
    "#>>> func()\n",
    "#>>> print(X)\n",
    "\n",
    "#Ans3. The result of this code is 'NI' and 'iNeuron' . X = 'NI' is in local scope of the function func(). Hence the function \n",
    "#      prints the value of X as NI. X = 'iNeuron' is in global scope , hence print(X) prints 'iNeuron'.\n",
    "\n",
    "#      The output of the given code is given below:"
   ]
  },
  {
   "cell_type": "code",
   "execution_count": 6,
   "id": "e784b448",
   "metadata": {},
   "outputs": [
    {
     "name": "stdout",
     "output_type": "stream",
     "text": [
      "NI\n",
      "iNeuron\n"
     ]
    }
   ],
   "source": [
    "X = 'iNeuron'\n",
    "def func():\n",
    "    X = 'NI'\n",
    "    print(X)\n",
    "func()\n",
    "print(X)"
   ]
  },
  {
   "cell_type": "code",
   "execution_count": 7,
   "id": "5ae804b3",
   "metadata": {},
   "outputs": [],
   "source": [
    "#Q4. WHAT OUTPUT DOES THIS CODE PRODUCE? WHY?\n",
    "\n",
    "#>>> x = 'iNeuron'\n",
    "#>>> def func():\n",
    "# global X\n",
    "# X = 'NI'\n",
    "#>>> func()\n",
    "#>>> print(X)\n",
    "\n",
    "\n",
    "# Ans4. The output of the code is \"NI\" because the global keyword inside the function allows the variable to be accessible in \n",
    "#       current scope annd changes its value to NI.\n",
    "\n",
    "#      The output of the given code is given below:"
   ]
  },
  {
   "cell_type": "code",
   "execution_count": 10,
   "id": "c6fe6f47",
   "metadata": {},
   "outputs": [
    {
     "name": "stdout",
     "output_type": "stream",
     "text": [
      "NI\n"
     ]
    }
   ],
   "source": [
    "X = 'iNeuron'\n",
    "def func():\n",
    "    global X\n",
    "    X = 'NI'\n",
    "   \n",
    "func()\n",
    "print(X)"
   ]
  },
  {
   "cell_type": "code",
   "execution_count": 11,
   "id": "2ada9585",
   "metadata": {},
   "outputs": [],
   "source": [
    "#Q5. What about this code - what's output, and why?\n",
    "\n",
    "#>>> x = 'iNeuron'\n",
    "#>>> def func():\n",
    "# X = 'NI'\n",
    "#def nested():\n",
    "# print(X)\n",
    "#nested()\n",
    "#>>> func()\n",
    "#>>> X\n",
    "\n",
    "\n",
    "\n",
    "#Ans5 : The output of this code is 'NI' and 'iNeuron' because it has a variable X as 'NI' in its local scope whereas output of X\n",
    "#       is 'iNeuron' because it refers to variable X that is having global scope instead of referring to a variable having a \n",
    "#       local scope in a function."
   ]
  },
  {
   "cell_type": "code",
   "execution_count": 12,
   "id": "624c2135",
   "metadata": {},
   "outputs": [
    {
     "name": "stdout",
     "output_type": "stream",
     "text": [
      "NI\n"
     ]
    },
    {
     "data": {
      "text/plain": [
       "'iNeuron'"
      ]
     },
     "execution_count": 12,
     "metadata": {},
     "output_type": "execute_result"
    }
   ],
   "source": [
    "X = 'iNeuron'\n",
    "def func():\n",
    "    X = 'NI'\n",
    "    def nested():\n",
    "        print(X)\n",
    "    nested()\n",
    "func()\n",
    "X"
   ]
  },
  {
   "cell_type": "code",
   "execution_count": 13,
   "id": "bf7dc140",
   "metadata": {},
   "outputs": [],
   "source": [
    "#Q6. How about this code: what is its output in Python 3, and explain?\n",
    "\n",
    "#>>>def func():\n",
    "#X = 'NI'\n",
    "#def nested():\n",
    "#nonlocal X\n",
    "# X = 'Spam'\n",
    "# nested()\n",
    "# print(X)\n",
    "# >>>func()\n",
    "\n",
    "\n",
    "# Ans6 : The output of the code is Spam, nonlocal keyword in python is used to declare a variable as not local. Hence the\n",
    "#        statement X = \"Spam\" is modified in the gloobal scope. Hence the output of print(X) statement is Spam"
   ]
  },
  {
   "cell_type": "code",
   "execution_count": 14,
   "id": "73cd1a05",
   "metadata": {},
   "outputs": [
    {
     "name": "stdout",
     "output_type": "stream",
     "text": [
      "Spam\n"
     ]
    }
   ],
   "source": [
    "def func():\n",
    "    X = 'NI'\n",
    "    def nested():\n",
    "        nonlocal X\n",
    "        X = 'Spam'\n",
    "    nested()\n",
    "    print(X)\n",
    "func()"
   ]
  }
 ],
 "metadata": {
  "kernelspec": {
   "display_name": "Python 3 (ipykernel)",
   "language": "python",
   "name": "python3"
  },
  "language_info": {
   "codemirror_mode": {
    "name": "ipython",
    "version": 3
   },
   "file_extension": ".py",
   "mimetype": "text/x-python",
   "name": "python",
   "nbconvert_exporter": "python",
   "pygments_lexer": "ipython3",
   "version": "3.9.12"
  }
 },
 "nbformat": 4,
 "nbformat_minor": 5
}
