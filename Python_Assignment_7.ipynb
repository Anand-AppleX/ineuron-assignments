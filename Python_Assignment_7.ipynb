{
 "cells": [
  {
   "cell_type": "markdown",
   "id": "09bbdcbf",
   "metadata": {},
   "source": [
    "### Q1. What is the name of the feature that is responsible for generating Regex objects?\n",
    "#### Ans1. \n",
    "The re.compile() function returns Regex  objects."
   ]
  },
  {
   "cell_type": "markdown",
   "id": "be8f1271",
   "metadata": {},
   "source": [
    "### Q2. Why do raw strings often appear in Regex objects?\n",
    "\n",
    "#### Ans2.\n",
    "Raw strings are used so that backslashes do not have to be escaped.\n",
    "\n",
    "### Q3. What is the return value of the search() method?\n",
    "#### Ans3.\n",
    "The search() method returns the  Match objects.\n",
    "\n",
    "### Q4. From a Match item, how do you get the actual strings that match the pattern? \n",
    "#### Ans4.\n",
    "The group() methods returns the strings of the matched text. \n",
    "\n",
    "### Q5. In the regex created from the r'(\\d\\d\\d)-(\\d\\d\\d)-(\\d\\d\\d)',what does group zero cover?Gropu2?Group1?\n",
    "#### Ans5.\n",
    "Grop 0 is  the entire match,group1 covers the first set of parentheses,andd group2 covers the second set of parentheses.\n",
    "\n"
   ]
  },
  {
   "cell_type": "markdown",
   "id": "b35eb2f5",
   "metadata": {},
   "source": [
    "### Q6. In standard expressions syntax,parentheses and intervals have distinct meanings.How can you tell a regex that you want it  to fit real parentheses and periods ?\n",
    "#### Ans6.\n",
    "Periods  and parentheses can be escaped  withh a backslash:(\\,\\9,and\\)\n",
    "    \n",
    "###Q7. The findal() method returns a string list or a list  of string tuples.What causes it to return one of the two options? \n",
    "#### Ans7.\n",
    "If the regex has no groups , all of strings is returned.If the regex has groups ,a list of tuples of strings is returned.\n",
    "\n",
    "### Q8. In standard expressions,what  does the | character mean?\n",
    "#### Ans8.\n",
    "The | character signifies matching \"either,or\" between groups.\n",
    "\n",
    "### Q9. In regular expressions,what does the character stand for?\n",
    "#### Ans9.\n",
    "which character?not mentioned.\n",
    "\n",
    "### Q10. In regular  expressions,what is the difference between the + and * characters?\n",
    "#### Ans10.\n",
    "The + matches  one or more and * matches zero or more.\n",
    "\n",
    "### Q11. What is the differene between {4} and {4,5} in regular expressions?\n",
    "#### Ans11.\n",
    "The {4} matches exactly three instances  of the precceding group.The {4,5} matches between four and five instances.\n",
    "\n",
    "### Q12. What do you mean by the \\d,\\w,and \\s shorthand character classes signify in regular expressions?\n",
    "\n",
    "#### Ans12. \n",
    "The \\d,\\w,and\\s shorthand character classes matches a single digit,word,or space character,respectively.\n"
   ]
  },
  {
   "cell_type": "markdown",
   "id": "098fe842",
   "metadata": {},
   "source": [
    "### Q13. What do you means by\\D,\\W, and\\S shorthand character classes signify in regullar expressions?\n",
    "#### Ans13.\n",
    "The\\D,\\W,or\\S shorthand character classes match a single character that is not a digit,word,or space character,respectively.\n",
    "\n",
    "### Q14. What is the difference between .*? and.*\n",
    "#### Ans14.\n",
    "The .* performs a  greedy match,and the .*? performs a non greedy  match.\n",
    "\n",
    "### Q15. What is the  syntax  for matching both numbers and lowercase  letters with a character  class?\n",
    "#### Ans15.\n",
    "Either[0-9a-z] or[a-z0-9]\n",
    "\n",
    "### Q16. What is the procedure for making a normal expressions in regax case inssensitive?\n",
    "#### Ans16.\n",
    "Passing re.I or re.IGNORECCASE as the second argument to re.compile() will make the matching case insensitive.\n",
    "\n",
    "### Q17. What does the .character normally match? What  does it mean if re.DOTALL is possed as 2nd argument in re.compile()? \n",
    "####Ans17.\n",
    "The character normally matches any character except the newline character.If re.DOTALLL is passed as the second argument to re.compile(),then the dot will also match the newline characters.\n",
    "\n",
    "### Q18. If numReg=compile(r'\\d+'),what will numRegex.sub('X','11 drummers,10pipers,five rings,4hen')return\n",
    "####Ans18.\n",
    "'X drummers,X pipers,five rings,Xhens'\n",
    "\n",
    "### Q19. What does passing re.VERBOSE as  the 2nd argumment to re.compile() allow to do?\n",
    "#Ans19.\n",
    "The re.VERBOSE  arguments allow you to add whitespace and comments to the  strings passed to re.commpile()\n"
   ]
  },
  {
   "cell_type": "markdown",
   "id": "d026d157",
   "metadata": {},
   "source": [
    "### Q20. How do you write a regex that a number with comma for every three digits?It must match the given following:\n",
    "     '42'\n",
    "     '1,234'\n",
    "     '6,368,745'\n",
    "     but not the following:\n",
    "     '12,34,567'(which has only digit between the commas)\n",
    "     '1234'(which lacks commas)\n",
    "#### Ans20.\n",
    "e.compiler(r'^\\d{1,3}(,{3})*$')will create  this regex,but other regex strings can produce a similar regular expressions.\n",
    "\n",
    "\n"
   ]
  },
  {
   "cell_type": "markdown",
   "id": "027d014f",
   "metadata": {},
   "source": [
    "### Q21. How would you write a regex that matches the full nname of someone whose  last name is Watanabe?You can assume the first  name that comes before it will always be one word that begins with a capital letter.The regex must match the following:\n",
    "     'Haruto Watanabe'\n",
    "     'Robocop Wantanbae'\n",
    "      bout not the following:\n",
    "      'haruto Wantanbae'(where the first name is not capitalize)\n",
    "      'Mr. Wantanbae'(where the preceding word has a nonleytter character)\n",
    "      'Wantanbae'(which has no first  name)\n",
    "      'Haruto wantanbae'(where Wantanbae is not capitalize)\n",
    "#### Ans21.  \n",
    "re.compiler(r'[A-Z][a-z]*\\sWantanbae')"
   ]
  },
  {
   "cell_type": "markdown",
   "id": "9c5d708c",
   "metadata": {},
   "source": [
    "### Q22. How would you write a regex that matches a sentence where the first word is either Alice,Bob or Carol;the second word is either eats,pets,or throws;the third word is apples,cats,or baseballs;and the sentence ends with a period?This regex should be case-insensitive.It must match the following:\n",
    "     'Alice eats apples.'\n",
    "     'Bob pets cats.'\n",
    "     'Carol throws baseballs.'\n",
    "      'Alice throws Apples.'\n",
    "     'BOB EATS CATS.'\n",
    "     but not the following:\n",
    "     'RoboCop eats appples.'\n",
    "      'ALICE THROWS  FOOTBALLS.'\n",
    "      'Carol eats 7 cats.'\n",
    "#### Ans22.\n",
    "re.compiler(r'(Alice|Bob|Carol)\\s(eats|pets|throws)\\\n",
    "s\\(apples|cats|baseballs)\\.',\n",
    "re.IGNORECASE)"
   ]
  },
  {
   "cell_type": "code",
   "execution_count": null,
   "id": "1b2302d5",
   "metadata": {},
   "outputs": [],
   "source": []
  }
 ],
 "metadata": {
  "kernelspec": {
   "display_name": "Python 3 (ipykernel)",
   "language": "python",
   "name": "python3"
  },
  "language_info": {
   "codemirror_mode": {
    "name": "ipython",
    "version": 3
   },
   "file_extension": ".py",
   "mimetype": "text/x-python",
   "name": "python",
   "nbconvert_exporter": "python",
   "pygments_lexer": "ipython3",
   "version": "3.9.12"
  }
 },
 "nbformat": 4,
 "nbformat_minor": 5
}
