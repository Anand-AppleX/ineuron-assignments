{
 "cells": [
  {
   "cell_type": "code",
   "execution_count": 2,
   "id": "357864df",
   "metadata": {},
   "outputs": [],
   "source": [
    "#Q1. What is the relationship between def statements and lambda expressions?\n",
    "\n",
    "#Ans1. def statement is used to create a normal function whereas lambda expressions is used to create an Anonymous functions.\n",
    "#      Lambda's body is a single expression and not a block of statements like def statements. The lambda expression's body is\n",
    "#        similar to what we put in def body's return statement."
   ]
  },
  {
   "cell_type": "code",
   "execution_count": 4,
   "id": "228bf11e",
   "metadata": {},
   "outputs": [],
   "source": [
    "#Q2. What is the benefit of lambda?\n",
    "\n",
    "#Ans2.   (1) It can be used to create a nameless/anonymous function in a complex funnction if we are planning to use at once.\n",
    "#        (2) A small functions can be created in a single line.\n",
    "#        (3) Functions created using lambda expressions can be assign to a variable and can be used simply calling the variable."
   ]
  },
  {
   "cell_type": "code",
   "execution_count": 5,
   "id": "f515837d",
   "metadata": {},
   "outputs": [],
   "source": [
    "#Q3. Compare and contrast map,filter,and reduce.\n",
    "\n",
    "#Ans3. map() : This functions takes another function as a parameter along with a sequence of iterables and returns an output \n",
    "#            after applying  the function to each iterable present in the sequence.\n",
    "#       filter() : This function is used to create an output list consisting of values for which the function returns true.\n",
    "#       reduce() : This functions,as the name describes,appies a givenn function to the iterables and returns a single value."
   ]
  },
  {
   "cell_type": "code",
   "execution_count": 6,
   "id": "c6c330dd",
   "metadata": {},
   "outputs": [],
   "source": [
    "#Q4. What are function annotations, and how are they used?"
   ]
  },
  {
   "cell_type": "code",
   "execution_count": null,
   "id": "28a88f2d",
   "metadata": {},
   "outputs": [],
   "source": [
    "#Ans4. Function annotations provide a way  of associating various parts  of a function with arbitary python expressions at \n",
    "#        compile time.\n",
    "#        Annotations of single parameters def func(x: expression, y: expression = 20):\n",
    "#        Whereas the annotations for excess parameters are as- def func (**args: expression,**kwargs: expression):"
   ]
  },
  {
   "cell_type": "code",
   "execution_count": 7,
   "id": "bdf47c8c",
   "metadata": {},
   "outputs": [],
   "source": [
    "#Q5. What are recursive functions, and how are they used?\n",
    "\n",
    "#Ans5 : A recursive function is a function that calls itself during its execution.\n",
    "#        The process may repeate several times,outputting the result and the end of each iteration."
   ]
  },
  {
   "cell_type": "code",
   "execution_count": 8,
   "id": "6c8a8028",
   "metadata": {},
   "outputs": [
    {
     "name": "stdout",
     "output_type": "stream",
     "text": [
      "\n",
      "\n",
      "Recursion Example Results\n",
      "1\n",
      "3\n",
      "6\n",
      "10\n",
      "15\n",
      "21\n",
      "28\n",
      "36\n",
      "45\n"
     ]
    },
    {
     "data": {
      "text/plain": [
       "45"
      ]
     },
     "execution_count": 8,
     "metadata": {},
     "output_type": "execute_result"
    }
   ],
   "source": [
    "def tri_recursion(k):\n",
    "    if(k>0):\n",
    "        result = k+tri_recursion(k-1)\n",
    "        print(result)\n",
    "    else:\n",
    "        result = 0\n",
    "    return result\n",
    "\n",
    "print(\"\\n\\nRecursion Example Results\")\n",
    "tri_recursion(9)"
   ]
  },
  {
   "cell_type": "code",
   "execution_count": 9,
   "id": "c567aa42",
   "metadata": {},
   "outputs": [],
   "source": [
    "#Q6. What are some general design guidelines for cooding functions?"
   ]
  },
  {
   "cell_type": "code",
   "execution_count": null,
   "id": "dc02200d",
   "metadata": {},
   "outputs": [],
   "source": [
    "#Ans6 (1)No whitespace inside parantheses , brackets, or braces\n",
    "#      (2)Surround operators with single whitespace on either side\n",
    "#      (3)Proper identation to increase the code relability.\n",
    "#      (4)Avoid using digits while choosing a variable name.\n",
    "#      (5)Always use a docstring to explain the functionality the function."
   ]
  },
  {
   "cell_type": "code",
   "execution_count": null,
   "id": "e4bb359a",
   "metadata": {},
   "outputs": [],
   "source": [
    "#Q7. Name three or more ways that functions cann communicate results to a caller\n",
    "\n",
    "#Ans7.   (1) print\n",
    "#        (2)return\n",
    "#        (3)yield"
   ]
  }
 ],
 "metadata": {
  "kernelspec": {
   "display_name": "Python 3 (ipykernel)",
   "language": "python",
   "name": "python3"
  },
  "language_info": {
   "codemirror_mode": {
    "name": "ipython",
    "version": 3
   },
   "file_extension": ".py",
   "mimetype": "text/x-python",
   "name": "python",
   "nbconvert_exporter": "python",
   "pygments_lexer": "ipython3",
   "version": "3.9.12"
  }
 },
 "nbformat": 4,
 "nbformat_minor": 5
}
