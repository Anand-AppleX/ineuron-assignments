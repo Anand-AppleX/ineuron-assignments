{
 "cells": [
  {
   "cell_type": "code",
   "execution_count": 1,
   "id": "d1df0861",
   "metadata": {},
   "outputs": [],
   "source": [
    "#Q1. Assign the value 7 to the variable guess_me . Then write the conditional tests (if,else and elif) to print the string \"too\n",
    "#    low\" if guess_me is less than 7 , \"too high\" if greater than 7, and \"just right\" if equal to 7."
   ]
  },
  {
   "cell_type": "code",
   "execution_count": 4,
   "id": "995f5071",
   "metadata": {},
   "outputs": [
    {
     "name": "stdout",
     "output_type": "stream",
     "text": [
      "just Right\n",
      "too high\n",
      "too low\n"
     ]
    }
   ],
   "source": [
    "def guess_me(guess_me):\n",
    "    if guess_me<7:\n",
    "        print(\"too low\")\n",
    "    elif guess_me>7:\n",
    "        print(\"too high\")\n",
    "    else:\n",
    "        print(\"just Right\")\n",
    "guess_me(guess_me = 7)\n",
    "guess_me(guess_me = 9)\n",
    "guess_me(guess_me = 5)\n",
    "    "
   ]
  },
  {
   "cell_type": "code",
   "execution_count": 1,
   "id": "7fde1806",
   "metadata": {},
   "outputs": [],
   "source": [
    "#Q2. Assign the value 7 to the variable guess_me and the value 1 to the variable start. Write a while loop that compares start \n",
    " #   with guess_me . Print too low if start is less than guess me. If start equal guess_me , print \"found it!\" and exit the loop\n",
    " #   If start is greater than guess_me,print \"oops\" and exit the loop. Increment start at the end of the loop."
   ]
  },
  {
   "cell_type": "code",
   "execution_count": 3,
   "id": "709bf169",
   "metadata": {},
   "outputs": [
    {
     "name": "stdout",
     "output_type": "stream",
     "text": [
      "too low\n",
      "too low\n",
      "too low\n",
      "too low\n",
      "too low\n",
      "too low\n",
      "found it!\n"
     ]
    }
   ],
   "source": [
    "guess_me = 7\n",
    "start = 1\n",
    "while True: \n",
    "    if start<guess_me:\n",
    "        print(\"too low\")\n",
    "    elif start == guess_me :\n",
    "        print(\"found it!\")\n",
    "        break\n",
    "    else:\n",
    "        print(\"oops\")\n",
    "        break\n",
    "\n",
    "    start += 1\n",
    "    "
   ]
  },
  {
   "cell_type": "code",
   "execution_count": 4,
   "id": "2cfc66b9",
   "metadata": {},
   "outputs": [],
   "source": [
    "#Q3. Print the following values of the list[3,2,1,0] using a for loop"
   ]
  },
  {
   "cell_type": "code",
   "execution_count": 5,
   "id": "e762f71e",
   "metadata": {},
   "outputs": [
    {
     "name": "stdout",
     "output_type": "stream",
     "text": [
      "3\n",
      "2\n",
      "1\n",
      "0\n"
     ]
    }
   ],
   "source": [
    "in_list = [3,2,1,0]\n",
    "for i in in_list:\n",
    "    print(i)"
   ]
  },
  {
   "cell_type": "code",
   "execution_count": 6,
   "id": "220811f0",
   "metadata": {},
   "outputs": [],
   "source": [
    "#Q4. Use a list comprehension to make a list of the even numbers in range(10)"
   ]
  },
  {
   "cell_type": "code",
   "execution_count": 7,
   "id": "b4ef8dab",
   "metadata": {},
   "outputs": [
    {
     "name": "stdout",
     "output_type": "stream",
     "text": [
      "[0, 2, 4, 6, 8]\n"
     ]
    }
   ],
   "source": [
    "print([i for i in range(10) if i%2==0])"
   ]
  },
  {
   "cell_type": "code",
   "execution_count": 8,
   "id": "88c45ced",
   "metadata": {},
   "outputs": [],
   "source": [
    "#Q5. Use a dictionary comprehension to create a dictionary squares. Use range(10) to return the keys, and use the square of each\n",
    "#    key as its value."
   ]
  },
  {
   "cell_type": "code",
   "execution_count": 9,
   "id": "122e61b4",
   "metadata": {},
   "outputs": [
    {
     "name": "stdout",
     "output_type": "stream",
     "text": [
      "{0: 0, 1: 1, 2: 4, 3: 9, 4: 16, 5: 25, 6: 36, 7: 49, 8: 64, 9: 81}\n"
     ]
    }
   ],
   "source": [
    "print(dict([(i,i*i) for i in range(10)]))"
   ]
  },
  {
   "cell_type": "code",
   "execution_count": 10,
   "id": "1c3bf0ac",
   "metadata": {},
   "outputs": [],
   "source": [
    "#Q6. Construct the set of odd from the odd numbers in the range using a set comprehension(10)"
   ]
  },
  {
   "cell_type": "code",
   "execution_count": 14,
   "id": "6cc19b3a",
   "metadata": {},
   "outputs": [
    {
     "name": "stdout",
     "output_type": "stream",
     "text": [
      "{1, 3, 5, 7, 9}\n"
     ]
    }
   ],
   "source": [
    "print({i for i in range(10) if i%2 != 0})"
   ]
  },
  {
   "cell_type": "code",
   "execution_count": 15,
   "id": "33a63778",
   "metadata": {},
   "outputs": [],
   "source": [
    "#Q7. Use a generator comprehension to return the strings \"Got\" and a number for the range (10). Iterate through this by using\n",
    "#    a for loop."
   ]
  },
  {
   "cell_type": "code",
   "execution_count": 16,
   "id": "41a4d22e",
   "metadata": {},
   "outputs": [
    {
     "name": "stdout",
     "output_type": "stream",
     "text": [
      "Got_0 Got_1 Got_2 Got_3 Got_4 Got_5 Got_6 Got_7 Got_8 Got_9 "
     ]
    }
   ],
   "source": [
    "gen_comprehensn = (\"Got_\" + str(i) for i in range(10))\n",
    "for j in gen_comprehensn:\n",
    "    print(j,end = ' ')"
   ]
  },
  {
   "cell_type": "code",
   "execution_count": 17,
   "id": "56ef62bf",
   "metadata": {},
   "outputs": [],
   "source": [
    "#Q8. define a function called good that returns the list[\"Harry\",\"Ron\",\"Hermoine\"]."
   ]
  },
  {
   "cell_type": "code",
   "execution_count": 18,
   "id": "e8928010",
   "metadata": {},
   "outputs": [
    {
     "name": "stdout",
     "output_type": "stream",
     "text": [
      "['Harry', 'Ron', 'Hermoine']\n"
     ]
    }
   ],
   "source": [
    "def good():\n",
    "    x = [\"Harry\",\"Ron\",\"Hermoine\"]\n",
    "    return x\n",
    "print(good())"
   ]
  },
  {
   "cell_type": "code",
   "execution_count": 19,
   "id": "a6698ba0",
   "metadata": {},
   "outputs": [],
   "source": [
    "#Q9. Define a generator function called get_odds that returns the odd_numbers from range(10) . Use a for loop to find and print\n",
    "#    the third value returned."
   ]
  },
  {
   "cell_type": "code",
   "execution_count": 22,
   "id": "a80d65f7",
   "metadata": {},
   "outputs": [
    {
     "name": "stdout",
     "output_type": "stream",
     "text": [
      "5\n"
     ]
    }
   ],
   "source": [
    "def gen_odds():\n",
    "    out_put = []\n",
    "    for i in range(10):\n",
    "        if i%2 !=0 :\n",
    "            out_put.append(i)\n",
    "    return out_put\n",
    "print(gen_odds()[2])\n",
    "    "
   ]
  },
  {
   "cell_type": "code",
   "execution_count": 23,
   "id": "63a71491",
   "metadata": {},
   "outputs": [],
   "source": [
    "#Q10. Define a exception called OopsException . Raise this exception to see what happens. Then write the code to catch this\n",
    "#    exception and print \"Caught an oops\"."
   ]
  },
  {
   "cell_type": "code",
   "execution_count": 27,
   "id": "bef565a4",
   "metadata": {},
   "outputs": [
    {
     "name": "stdout",
     "output_type": "stream",
     "text": [
      "Caught an oops -> name 'a' is not defined\n"
     ]
    }
   ],
   "source": [
    "class OopsException(Exception) :\n",
    "    pass\n",
    "def test(in_num):\n",
    "    if in_num < 0:\n",
    "        raise OopsException(a)\n",
    "try:\n",
    "    test(-250)\n",
    "except Exception as e:\n",
    "    print('Caught an oops ->',e)\n",
    "            "
   ]
  },
  {
   "cell_type": "code",
   "execution_count": 28,
   "id": "64c88dc4",
   "metadata": {},
   "outputs": [],
   "source": [
    "#Q11. Use zip() to make a dictionary called mmovies that pairs these lists:titles = ['Creature of habit','Crewel Fate'] and\n",
    "#    plots = [\"A num turns into a monster\",\"A haunted yarn shop\"]"
   ]
  },
  {
   "cell_type": "code",
   "execution_count": 29,
   "id": "4c8e4c08",
   "metadata": {},
   "outputs": [
    {
     "name": "stdout",
     "output_type": "stream",
     "text": [
      "{'Creature of habit': 'A num turns into a monster', 'Crewel Fate': 'A haunted yarn shop'}\n"
     ]
    }
   ],
   "source": [
    "titles = [\"Creature of habit\",\"Crewel Fate\"]\n",
    "plots = [\"A num turns into a monster\",\"A haunted yarn shop\"]\n",
    "output = dict(zip(titles,plots))\n",
    "print(output)"
   ]
  }
 ],
 "metadata": {
  "kernelspec": {
   "display_name": "Python 3 (ipykernel)",
   "language": "python",
   "name": "python3"
  },
  "language_info": {
   "codemirror_mode": {
    "name": "ipython",
    "version": 3
   },
   "file_extension": ".py",
   "mimetype": "text/x-python",
   "name": "python",
   "nbconvert_exporter": "python",
   "pygments_lexer": "ipython3",
   "version": "3.9.12"
  }
 },
 "nbformat": 4,
 "nbformat_minor": 5
}
