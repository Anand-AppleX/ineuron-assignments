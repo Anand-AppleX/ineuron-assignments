{
 "cells": [
  {
   "cell_type": "markdown",
   "id": "4d8e66a1",
   "metadata": {},
   "source": [
    "### Q1. Create a list called year_list,starting with the year of your birth, and each year thereafter until the year of your\n",
    "###    fifth birthday. For,example if you were born in 1980,the list would be year_list = [1980,1981,1982,1983,1984,1985]."
   ]
  },
  {
   "cell_type": "code",
   "execution_count": 4,
   "id": "4b5a230b",
   "metadata": {},
   "outputs": [
    {
     "name": "stdout",
     "output_type": "stream",
     "text": [
      "[2002, 2003, 2004, 2005, 2006, 2007]\n"
     ]
    }
   ],
   "source": [
    "years_list = [i for i in range(2002,2002+6)]\n",
    "print(years_list)"
   ]
  },
  {
   "cell_type": "markdown",
   "id": "c7695356",
   "metadata": {},
   "source": [
    "### Q2. In which year in years_list was your third_birthday?Remember you were 0 years of age for your first year."
   ]
  },
  {
   "cell_type": "code",
   "execution_count": 6,
   "id": "78f63b19",
   "metadata": {},
   "outputs": [
    {
     "name": "stdout",
     "output_type": "stream",
     "text": [
      "2005\n"
     ]
    }
   ],
   "source": [
    "print(years_list[3])"
   ]
  },
  {
   "cell_type": "markdown",
   "id": "2e7eedab",
   "metadata": {},
   "source": [
    "### Q3. In the year list,which year where you the oldest?"
   ]
  },
  {
   "cell_type": "code",
   "execution_count": 8,
   "id": "67f84846",
   "metadata": {},
   "outputs": [
    {
     "name": "stdout",
     "output_type": "stream",
     "text": [
      "2007\n"
     ]
    }
   ],
   "source": [
    "print(years_list[-1])"
   ]
  },
  {
   "cell_type": "markdown",
   "id": "4ed9fb57",
   "metadata": {},
   "source": [
    "### Q4. Make a list called things with these three strings as elements: \"mozzarella\",\"cindrella\",\"salmonella\""
   ]
  },
  {
   "cell_type": "code",
   "execution_count": 10,
   "id": "9624aaa4",
   "metadata": {},
   "outputs": [
    {
     "name": "stdout",
     "output_type": "stream",
     "text": [
      "['mozzarella', 'cindrella', 'salmonella']\n"
     ]
    }
   ],
   "source": [
    "things = [i+\"ella\" for i in [\"mozzar\",\"cindr\",\"salmon\"]]\n",
    "print(things)"
   ]
  },
  {
   "cell_type": "markdown",
   "id": "ee999fb7",
   "metadata": {},
   "source": [
    "### Q5. Capitalize the elements in things that refers to a person and then print the list.Did it change the element in list?"
   ]
  },
  {
   "cell_type": "code",
   "execution_count": 14,
   "id": "6a5dcfef",
   "metadata": {},
   "outputs": [
    {
     "name": "stdout",
     "output_type": "stream",
     "text": [
      "['mozzarella', 'Cindrella', 'salmonella']\n"
     ]
    }
   ],
   "source": [
    "for i in range(len(things)):\n",
    "    if things[i] == \"cindrella\":\n",
    "        things[i] = things[i].capitalize()\n",
    "print(things)\n",
    "        \n",
    "    "
   ]
  },
  {
   "cell_type": "markdown",
   "id": "00918773",
   "metadata": {},
   "source": [
    "### Q6. Make a surprise list with the elements \"Groucho\",\"Chico\", and \"Harpo\"."
   ]
  },
  {
   "cell_type": "code",
   "execution_count": 17,
   "id": "428895ce",
   "metadata": {},
   "outputs": [
    {
     "name": "stdout",
     "output_type": "stream",
     "text": [
      "['Groucho', 'Chico', 'Harpo']\n"
     ]
    }
   ],
   "source": [
    "surprise_list = [\"Groucho\",\"Chico\", \"Harpo\"]\n",
    "print(surprise_list)"
   ]
  },
  {
   "cell_type": "markdown",
   "id": "c96b5a8b",
   "metadata": {},
   "source": [
    "### Q7.Lowercase the last element of the surprise list,reverse it,and then capitalize it."
   ]
  },
  {
   "cell_type": "code",
   "execution_count": 19,
   "id": "365c5809",
   "metadata": {},
   "outputs": [
    {
     "name": "stdout",
     "output_type": "stream",
     "text": [
      "Oprah\n"
     ]
    }
   ],
   "source": [
    "print(surprise_list[-1].lower()[::-1].capitalize())"
   ]
  },
  {
   "cell_type": "markdown",
   "id": "a78e5a21",
   "metadata": {},
   "source": [
    "### Q8. Make an English-to-French dictionary called e2f and print it. Here are your starter words:dog is chein,cat is chat,and walrus is morse."
   ]
  },
  {
   "cell_type": "code",
   "execution_count": 21,
   "id": "a0576a02",
   "metadata": {},
   "outputs": [
    {
     "name": "stdout",
     "output_type": "stream",
     "text": [
      "{'dog': 'chein', 'cat': 'chat', 'walrus': 'morse'}\n"
     ]
    }
   ],
   "source": [
    "e2f = {\"dog\":\"chein\",\"cat\":\"chat\",\"walrus\":\"morse\"}\n",
    "print(e2f)"
   ]
  },
  {
   "cell_type": "markdown",
   "id": "9b9aa7f6",
   "metadata": {},
   "source": [
    "### Q9. Write the french word for walrus in your three-word dictionary e2f."
   ]
  },
  {
   "cell_type": "code",
   "execution_count": 23,
   "id": "6543d5be",
   "metadata": {},
   "outputs": [
    {
     "name": "stdout",
     "output_type": "stream",
     "text": [
      "morse\n"
     ]
    }
   ],
   "source": [
    "print(e2f.get(\"walrus\"))"
   ]
  },
  {
   "cell_type": "markdown",
   "id": "d5de0b42",
   "metadata": {},
   "source": [
    "### Q10. Make a French-to-English Dictionary called f2e from e2f . Use the items method."
   ]
  },
  {
   "cell_type": "code",
   "execution_count": 26,
   "id": "a6c77195",
   "metadata": {},
   "outputs": [
    {
     "name": "stdout",
     "output_type": "stream",
     "text": [
      "{'chein': 'dog', 'chat': 'cat', 'morse': 'walrus'}\n"
     ]
    }
   ],
   "source": [
    "f2e = dict([i[::-1] for i in e2f.items()])\n",
    "print(f2e)"
   ]
  },
  {
   "cell_type": "markdown",
   "id": "851e7bd3",
   "metadata": {},
   "source": [
    "### Q11. Print the english version of french word chein using f2e."
   ]
  },
  {
   "cell_type": "code",
   "execution_count": 30,
   "id": "e046b553",
   "metadata": {},
   "outputs": [
    {
     "name": "stdout",
     "output_type": "stream",
     "text": [
      "dog\n"
     ]
    }
   ],
   "source": [
    "print(f2e.get(\"chein\"))\n"
   ]
  },
  {
   "cell_type": "markdown",
   "id": "1e31aee4",
   "metadata": {},
   "source": [
    "### Q12. Make and print a set of english words from the keys in e2f."
   ]
  },
  {
   "cell_type": "code",
   "execution_count": 32,
   "id": "05471bd2",
   "metadata": {},
   "outputs": [
    {
     "name": "stdout",
     "output_type": "stream",
     "text": [
      "['dog', 'cat', 'walrus']\n"
     ]
    }
   ],
   "source": [
    "print(list(e2f.keys()))"
   ]
  },
  {
   "cell_type": "markdown",
   "id": "277218be",
   "metadata": {},
   "source": [
    "### Q13.Make a multilevel dictionary called life. Use these strings for the topmost keys: 'animals','plants' and 'other'.Make the 'animals' key refer to another dictionary with the keys \"cats\",\"octopi\",and \"emus\". Make the \"cats\" keys refer to a list of string with the values \"Henri\",\"Grumpy\" and\" \"Lucy\".Make all the other keys refer to empty dictionaries."
   ]
  },
  {
   "cell_type": "code",
   "execution_count": 34,
   "id": "309e88d9",
   "metadata": {},
   "outputs": [
    {
     "name": "stdout",
     "output_type": "stream",
     "text": [
      "{'animals': {'cats': ['Henri', 'Grumpy', 'Lucy'], 'octopi': {}, 'emus': {}}, 'plants': {}, 'other': {}}\n"
     ]
    }
   ],
   "source": [
    "life = {\"animals\":{\"cats\":[\"Henri\",\"Grumpy\",\"Lucy\"],\"octopi\":{},\"emus\":{}},\"plants\":{},\"other\":{}}\n",
    "print(life)"
   ]
  },
  {
   "cell_type": "markdown",
   "id": "753e3b5c",
   "metadata": {},
   "source": [
    "### Q14. Print the top-level keys of life."
   ]
  },
  {
   "cell_type": "code",
   "execution_count": 37,
   "id": "53c9d7e9",
   "metadata": {},
   "outputs": [
    {
     "name": "stdout",
     "output_type": "stream",
     "text": [
      "['animals', 'plants', 'other']\n"
     ]
    }
   ],
   "source": [
    "print(list(life.keys()))"
   ]
  },
  {
   "cell_type": "markdown",
   "id": "6c1af8b9",
   "metadata": {},
   "source": [
    "### Q15. Print the keys for life[\"animals\"]"
   ]
  },
  {
   "cell_type": "code",
   "execution_count": 39,
   "id": "8970827d",
   "metadata": {},
   "outputs": [
    {
     "name": "stdout",
     "output_type": "stream",
     "text": [
      "['cats', 'octopi', 'emus']\n"
     ]
    }
   ],
   "source": [
    "print(list(life[\"animals\"].keys()))"
   ]
  },
  {
   "cell_type": "markdown",
   "id": "58508b1a",
   "metadata": {},
   "source": [
    "### Q16. Print the values for life[\"animala\"][\"cats\"]"
   ]
  },
  {
   "cell_type": "code",
   "execution_count": 43,
   "id": "fa5a3fd4",
   "metadata": {},
   "outputs": [
    {
     "name": "stdout",
     "output_type": "stream",
     "text": [
      "['Henri', 'Grumpy', 'Lucy']\n"
     ]
    }
   ],
   "source": [
    "print(list(life[\"animals\"][\"cats\"]))"
   ]
  }
 ],
 "metadata": {
  "kernelspec": {
   "display_name": "Python 3 (ipykernel)",
   "language": "python",
   "name": "python3"
  },
  "language_info": {
   "codemirror_mode": {
    "name": "ipython",
    "version": 3
   },
   "file_extension": ".py",
   "mimetype": "text/x-python",
   "name": "python",
   "nbconvert_exporter": "python",
   "pygments_lexer": "ipython3",
   "version": "3.10.9"
  }
 },
 "nbformat": 4,
 "nbformat_minor": 5
}
